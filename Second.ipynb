{
 "cells": [
  {
   "cell_type": "markdown",
   "id": "aa70e7fa",
   "metadata": {},
   "source": [
    "# Function"
   ]
  },
  {
   "cell_type": "code",
   "execution_count": null,
   "id": "8f2f168e",
   "metadata": {},
   "outputs": [],
   "source": [
    "def sum(a,b):\n",
    "    result = a+b\n",
    "    return result\n",
    "\n",
    "print(sum(\"1\",\"2\"))"
   ]
  },
  {
   "cell_type": "code",
   "execution_count": 6,
   "id": "beca0f01",
   "metadata": {},
   "outputs": [
    {
     "name": "stdout",
     "output_type": "stream",
     "text": [
      "Hi\n"
     ]
    }
   ],
   "source": [
    "def say():\n",
    "    return 'Hi'\n",
    "\n",
    "print(say())"
   ]
  },
  {
   "cell_type": "code",
   "execution_count": 8,
   "id": "d83db936",
   "metadata": {},
   "outputs": [
    {
     "name": "stdout",
     "output_type": "stream",
     "text": [
      "1, 2의 합은 3 이다.\n"
     ]
    }
   ],
   "source": [
    "def sum(a,b):\n",
    "    print(\"%d, %d의 합은 %d 이다.\" % (a,b,a+b))\n",
    "    \n",
    "sum(1,2)"
   ]
  },
  {
   "cell_type": "code",
   "execution_count": 10,
   "id": "dfe936bf",
   "metadata": {},
   "outputs": [
    {
     "name": "stdout",
     "output_type": "stream",
     "text": [
      "None\n"
     ]
    }
   ],
   "source": [
    "myList = [1,2,3]\n",
    "print(myList.append(4))"
   ]
  },
  {
   "cell_type": "code",
   "execution_count": 13,
   "id": "dc8c205d",
   "metadata": {},
   "outputs": [
    {
     "name": "stdout",
     "output_type": "stream",
     "text": [
      "Hi\n",
      "None\n"
     ]
    }
   ],
   "source": [
    "def say():\n",
    "    print('Hi')\n",
    "\n",
    "print(say())"
   ]
  },
  {
   "cell_type": "code",
   "execution_count": 15,
   "id": "c5f68d89",
   "metadata": {},
   "outputs": [
    {
     "name": "stdout",
     "output_type": "stream",
     "text": [
      "15\n"
     ]
    }
   ],
   "source": [
    "def sum_many(*args):\n",
    "    sum = 0\n",
    "    for i in args:\n",
    "        sum+=i\n",
    "    return sum\n",
    "\n",
    "print(sum_many(1,2,3,4,5))"
   ]
  },
  {
   "cell_type": "code",
   "execution_count": 34,
   "id": "90ea718a",
   "metadata": {},
   "outputs": [
    {
     "name": "stdout",
     "output_type": "stream",
     "text": [
      "당신의 이름은 : 2\n"
     ]
    }
   ],
   "source": [
    "def print_kwargs(**kwargs):\n",
    "    for k,v in kwargs.items():\n",
    "        if(k == \"b\"):\n",
    "            print(\"당신의 이름은 : \"+v)\n",
    "\n",
    "print_kwargs(name='int',b='2')"
   ]
  },
  {
   "cell_type": "code",
   "execution_count": 38,
   "id": "92aa810b",
   "metadata": {},
   "outputs": [
    {
     "name": "stdout",
     "output_type": "stream",
     "text": [
      "2\n"
     ]
    }
   ],
   "source": [
    "def sum_and_mul(a,b):\n",
    "    return a+b, a*b\n",
    "\n",
    "print(sum_and_mul(1,2)[1])"
   ]
  },
  {
   "cell_type": "code",
   "execution_count": 43,
   "id": "d671a7e6",
   "metadata": {},
   "outputs": [
    {
     "name": "stdout",
     "output_type": "stream",
     "text": [
      "나의 이름은 hwanil 입니다.\n",
      "나이는 32살 입니다.\n",
      "남자입니다.\n",
      "나의 이름은 NONE 입니다.\n",
      "나이는 100살 입니다.\n",
      "남자입니다.\n"
     ]
    }
   ],
   "source": [
    "def say_myself(name=\"NONE\", old=100, man=True):\n",
    "    print(\"나의 이름은 %s 입니다.\" % name)\n",
    "    print(\"나이는 %d살 입니다.\" % old)\n",
    "    if man:\n",
    "        print(\"남자입니다.\")\n",
    "    else:\n",
    "        print(\"여자입니다.\")\n",
    "    \n",
    "say_myself(\"hwanil\",32)\n",
    "say_myself()"
   ]
  },
  {
   "cell_type": "code",
   "execution_count": 45,
   "id": "c096e2e6",
   "metadata": {},
   "outputs": [
    {
     "name": "stdout",
     "output_type": "stream",
     "text": [
      "2\n"
     ]
    }
   ],
   "source": [
    "a = 1\n",
    "def vartest(a):\n",
    "    a = a+1\n",
    "    return a\n",
    "\n",
    "a = vartest(a)\n",
    "print(a)"
   ]
  },
  {
   "cell_type": "code",
   "execution_count": 47,
   "id": "93d7ceef",
   "metadata": {},
   "outputs": [
    {
     "name": "stdout",
     "output_type": "stream",
     "text": [
      "2\n"
     ]
    }
   ],
   "source": [
    "a = 1\n",
    "def vartest():\n",
    "    global a\n",
    "    a = a + 1\n",
    "\n",
    "vartest()\n",
    "print(a)"
   ]
  },
  {
   "cell_type": "code",
   "execution_count": 49,
   "id": "14e1a16b",
   "metadata": {},
   "outputs": [
    {
     "name": "stdout",
     "output_type": "stream",
     "text": [
      "3\n"
     ]
    }
   ],
   "source": [
    "add = lambda a,b: a+b\n",
    "print(add(1,2))"
   ]
  },
  {
   "cell_type": "code",
   "execution_count": 52,
   "id": "deaae0d0",
   "metadata": {},
   "outputs": [
    {
     "name": "stdout",
     "output_type": "stream",
     "text": [
      "7\n",
      "12\n"
     ]
    }
   ],
   "source": [
    "myList = [lambda a,b : a+b, lambda a,b : a*b]\n",
    "print(myList[0](3,4))\n",
    "print(myList[1](3,4))"
   ]
  },
  {
   "cell_type": "code",
   "execution_count": 56,
   "id": "dc0deab1",
   "metadata": {},
   "outputs": [
    {
     "name": "stdout",
     "output_type": "stream",
     "text": [
      "숫자를 입력하세요: 10000000000000000\n",
      "10000000000000000\n"
     ]
    }
   ],
   "source": [
    "number = input(\"숫자를 입력하세요: \")\n",
    "print(number)"
   ]
  },
  {
   "cell_type": "code",
   "execution_count": 58,
   "id": "ab20aeba",
   "metadata": {},
   "outputs": [
    {
     "name": "stdout",
     "output_type": "stream",
     "text": [
      "Life is too short\n"
     ]
    }
   ],
   "source": [
    "print(\"Life\",\"is\",\"too short\")"
   ]
  },
  {
   "cell_type": "code",
   "execution_count": 62,
   "id": "21ee44fc",
   "metadata": {},
   "outputs": [
    {
     "name": "stdout",
     "output_type": "stream",
     "text": [
      "1 2 3 4 5 6 7 8 9 "
     ]
    }
   ],
   "source": [
    "for i in range(1,10):\n",
    "    print(i, end=' ')\n"
   ]
  },
  {
   "cell_type": "code",
   "execution_count": 64,
   "id": "7c01123d",
   "metadata": {},
   "outputs": [],
   "source": [
    "f = open(\"새파일.txt\",'w')\n",
    "f.close()"
   ]
  },
  {
   "cell_type": "code",
   "execution_count": 68,
   "id": "8be842c8",
   "metadata": {},
   "outputs": [],
   "source": [
    "f = open(\"새파일.txt\",'w', encoding=\"UTF-8\")\n",
    "for i in range(1,11):\n",
    "    data = \"%d번째 줄입니다.\\n\" % i\n",
    "    f.write(data)\n",
    "f.close()"
   ]
  },
  {
   "cell_type": "code",
   "execution_count": 70,
   "id": "b8dac1f9",
   "metadata": {},
   "outputs": [
    {
     "name": "stdout",
     "output_type": "stream",
     "text": [
      "1번째 줄입니다.\n",
      "\n",
      "2번째 줄입니다.\n",
      "\n",
      "3번째 줄입니다.\n",
      "\n",
      "4번째 줄입니다.\n",
      "\n",
      "5번째 줄입니다.\n",
      "\n",
      "6번째 줄입니다.\n",
      "\n",
      "7번째 줄입니다.\n",
      "\n",
      "8번째 줄입니다.\n",
      "\n",
      "9번째 줄입니다.\n",
      "\n",
      "10번째 줄입니다.\n",
      "\n"
     ]
    }
   ],
   "source": [
    "f = open(\"새파일.txt\",'r', encoding=\"UTF-8\")\n",
    "while True:\n",
    "    line = f.readline()\n",
    "    if not line:\n",
    "        break\n",
    "    print(line)\n",
    "f.close()"
   ]
  },
  {
   "cell_type": "code",
   "execution_count": null,
   "id": "19dc3a57",
   "metadata": {},
   "outputs": [],
   "source": [
    "f = open(\"새파일.txt\",'r', encoding=\"UTF-8\")\n",
    "lines = f.readlines()\n",
    "for line in lines:\n",
    "    print(line, end=\"\")\n",
    "f.close()"
   ]
  },
  {
   "cell_type": "code",
   "execution_count": 76,
   "id": "b8a637c1",
   "metadata": {},
   "outputs": [
    {
     "name": "stdout",
     "output_type": "stream",
     "text": [
      "1번째 줄입니다.\n",
      "2번째 줄입니다.\n",
      "3번째 줄입니다.\n",
      "4번째 줄입니다.\n",
      "5번째 줄입니다.\n",
      "6번째 줄입니다.\n",
      "7번째 줄입니다.\n",
      "8번째 줄입니다.\n",
      "9번째 줄입니다.\n",
      "10번째 줄입니다.\n"
     ]
    }
   ],
   "source": [
    "f = open(\"새파일.txt\",'r', encoding=\"UTF-8\")\n",
    "lines = f.readlines()\n",
    "for line in lines:\n",
    "    print(line.strip(\"\\n\"))\n",
    "f.close()"
   ]
  },
  {
   "cell_type": "code",
   "execution_count": 78,
   "id": "97da4dd8",
   "metadata": {},
   "outputs": [
    {
     "name": "stdout",
     "output_type": "stream",
     "text": [
      "1번째 줄입니다.\n",
      "2번째 줄입니다.\n",
      "3번째 줄입니다.\n",
      "4번째 줄입니다.\n",
      "5번째 줄입니다.\n",
      "6번째 줄입니다.\n",
      "7번째 줄입니다.\n",
      "8번째 줄입니다.\n",
      "9번째 줄입니다.\n",
      "10번째 줄입니다.\n",
      "\n"
     ]
    }
   ],
   "source": [
    "f = open(\"새파일.txt\",'r', encoding=\"UTF-8\")\n",
    "data = f.read()\n",
    "print(data)\n",
    "f.close()"
   ]
  },
  {
   "cell_type": "code",
   "execution_count": 79,
   "id": "4d3ebfae",
   "metadata": {},
   "outputs": [],
   "source": [
    "f = open(\"새파일.txt\",'a', encoding=\"UTF-8\")\n",
    "for i in range(11,20):\n",
    "    data = \"%d번째 줄입니다.\\n\" % i\n",
    "    f.write(data)\n",
    "\n",
    "f.close()"
   ]
  },
  {
   "cell_type": "code",
   "execution_count": 80,
   "id": "9b5dba99",
   "metadata": {},
   "outputs": [],
   "source": [
    "with open(\"foo.txt\",\"w\") as f:\n",
    "    f.write(\"Life is too short, so you need python\")"
   ]
  },
  {
   "cell_type": "markdown",
   "id": "f4ef196d",
   "metadata": {},
   "source": [
    "# 파이썬 날개달기"
   ]
  },
  {
   "cell_type": "code",
   "execution_count": 3,
   "id": "387787ad",
   "metadata": {},
   "outputs": [
    {
     "name": "stdout",
     "output_type": "stream",
     "text": [
      "3\n",
      "7\n",
      "3\n",
      "10\n"
     ]
    }
   ],
   "source": [
    "result1 = 0\n",
    "result2 = 0\n",
    "\n",
    "def add1(num):\n",
    "    global result1\n",
    "    result1 += num\n",
    "    return result1\n",
    "\n",
    "def add2(num):\n",
    "    global result2\n",
    "    result2 += num\n",
    "    return result2\n",
    "\n",
    "print(add1(3))\n",
    "print(add1(4))\n",
    "print(add2(3))\n",
    "print(add2(7))"
   ]
  },
  {
   "cell_type": "code",
   "execution_count": 8,
   "id": "436366f1",
   "metadata": {},
   "outputs": [
    {
     "name": "stdout",
     "output_type": "stream",
     "text": [
      "3\n",
      "7\n",
      "3\n",
      "10\n"
     ]
    }
   ],
   "source": [
    "class Calculator:\n",
    "    def __init__(self):\n",
    "        self.result = 0\n",
    "    \n",
    "    def add(self,num):\n",
    "        self.result+=num\n",
    "        return self.result\n",
    "\n",
    "cal1 = Calculator()\n",
    "cal2 = Calculator()\n",
    "\n",
    "print(cal1.add(3))\n",
    "print(cal1.add(4))\n",
    "print(cal2.add(3))\n",
    "print(cal2.add(7))"
   ]
  },
  {
   "cell_type": "code",
   "execution_count": 19,
   "id": "15d7d5b2",
   "metadata": {},
   "outputs": [
    {
     "name": "stdout",
     "output_type": "stream",
     "text": [
      "3\n"
     ]
    }
   ],
   "source": [
    "class FourCal:\n",
    "    def __init__(self,first,second):\n",
    "        self.first = first\n",
    "        self.second = second\n",
    "    \n",
    "    def __init__(self):\n",
    "        pass\n",
    "        \n",
    "    def setData(self,first,second):\n",
    "        self.first = first\n",
    "        self.second = second\n",
    "   \n",
    "    def add(self):\n",
    "        result = self.first + self.second\n",
    "        return result\n",
    "\n",
    "a = FourCal()\n",
    "a.setData(1,2)\n",
    "\n",
    "print(a.add())\n"
   ]
  },
  {
   "cell_type": "code",
   "execution_count": 28,
   "id": "460b0594",
   "metadata": {},
   "outputs": [
    {
     "name": "stdout",
     "output_type": "stream",
     "text": [
      "0\n"
     ]
    }
   ],
   "source": [
    "class FourCal:\n",
    "    def __init__(self):\n",
    "        pass\n",
    "    \n",
    "    def __init__(self,first,second):\n",
    "        self.first = first\n",
    "        self.second = second\n",
    "\n",
    "        \n",
    "    def setData(self,first,second):\n",
    "        self.first = first\n",
    "        self.second = second\n",
    "   \n",
    "    def add(self):\n",
    "        result = self.first + self.second\n",
    "        return result\n",
    "    def div(self):\n",
    "        result = self.first / self.second\n",
    "        return result\n",
    "class MoreFourCal(FourCal):\n",
    "    def pow(self):\n",
    "        result = self.first ** self.second\n",
    "        return result\n",
    "    def div(self):\n",
    "        if self.second == 0:\n",
    "            return 0\n",
    "        else:\n",
    "            return self.first/self.second\n",
    "        \n",
    "\n",
    "a = MoreFourCal(4,0)\n",
    "print(a.div())"
   ]
  },
  {
   "cell_type": "code",
   "execution_count": 29,
   "id": "8ac7a5b4",
   "metadata": {},
   "outputs": [],
   "source": [
    "class FourCal:\n",
    "    first = 2\n",
    "    second = 3\n",
    "    def __init__(self):\n",
    "        pass\n",
    "    \n",
    "    def __init__(self,first,second):\n",
    "        self.first = first\n",
    "        self.second = second\n",
    "\n",
    "        \n",
    "    def setData(self,first,second):\n",
    "        self.first = first\n",
    "        self.second = second\n",
    "   \n",
    "    def add(self):\n",
    "        result = self.first + self.second\n",
    "        return result\n",
    "    def div(self):\n",
    "        result = self.first / self.second\n",
    "        return result"
   ]
  },
  {
   "cell_type": "code",
   "execution_count": 32,
   "id": "19c2c8e2",
   "metadata": {},
   "outputs": [
    {
     "name": "stdout",
     "output_type": "stream",
     "text": [
      "김\n",
      "박\n",
      "박\n",
      "박\n"
     ]
    }
   ],
   "source": [
    "class Family:\n",
    "    lastname = \"김\"\n",
    "    \n",
    "print(Family.lastname)\n",
    "Family.lastname = \"박\"\n",
    "f1 = Family()\n",
    "f2 = Family()\n",
    "\n",
    "print(Family.lastname)\n",
    "print(f1.lastname)\n",
    "print(f2.lastname)"
   ]
  },
  {
   "cell_type": "code",
   "execution_count": 36,
   "id": "949c1752",
   "metadata": {},
   "outputs": [
    {
     "name": "stdout",
     "output_type": "stream",
     "text": [
      "3\n"
     ]
    }
   ],
   "source": [
    "import mod1\n",
    "print(mod1.add(1,2))\n",
    "#print(add(3,2))"
   ]
  },
  {
   "cell_type": "code",
   "execution_count": 38,
   "id": "63802061",
   "metadata": {},
   "outputs": [
    {
     "name": "stdout",
     "output_type": "stream",
     "text": [
      "5\n"
     ]
    }
   ],
   "source": [
    "from mod1 import add\n",
    "print(add(3,2))"
   ]
  },
  {
   "cell_type": "code",
   "execution_count": 42,
   "id": "0f8fa6c2",
   "metadata": {},
   "outputs": [
    {
     "name": "stdout",
     "output_type": "stream",
     "text": [
      "7\n"
     ]
    }
   ],
   "source": [
    "import mod1\n",
    "print(mod1.add(3,4))"
   ]
  },
  {
   "cell_type": "code",
   "execution_count": 49,
   "id": "0306399a",
   "metadata": {},
   "outputs": [
    {
     "name": "stdout",
     "output_type": "stream",
     "text": [
      "7\n"
     ]
    }
   ],
   "source": [
    "import sys\n",
    "sys.path.append(\"D:\\\\BigData_Beginner\\\\subfolder\")\n",
    "import mod2\n",
    "print(mod2.add(3,4))"
   ]
  }
 ],
 "metadata": {
  "kernelspec": {
   "display_name": "Python 3",
   "language": "python",
   "name": "python3"
  },
  "language_info": {
   "codemirror_mode": {
    "name": "ipython",
    "version": 3
   },
   "file_extension": ".py",
   "mimetype": "text/x-python",
   "name": "python",
   "nbconvert_exporter": "python",
   "pygments_lexer": "ipython3",
   "version": "3.8.8"
  }
 },
 "nbformat": 4,
 "nbformat_minor": 5
}
